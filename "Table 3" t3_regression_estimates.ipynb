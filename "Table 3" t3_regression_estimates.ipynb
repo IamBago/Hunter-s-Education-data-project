{
 "cells": [
  {
   "cell_type": "code",
   "execution_count": 1,
   "id": "e86c323a-9186-40ec-9a25-e22372dd73f9",
   "metadata": {
    "tags": []
   },
   "outputs": [
    {
     "data": {
      "text/html": [
       "<style>div.jp-Notebook .datagrid-container {min-height: 448px; }</style>"
      ],
      "text/plain": [
       "<IPython.core.display.HTML object>"
      ]
     },
     "metadata": {},
     "output_type": "display_data"
    }
   ],
   "source": [
    "use race educ coneduc age sex racdif3 using GSS2022-Copy1.dta, clear"
   ]
  },
  {
   "cell_type": "code",
   "execution_count": 7,
   "id": "5c111e9f-2151-4437-a51b-c6544745fa2d",
   "metadata": {
    "tags": []
   },
   "outputs": [
    {
     "name": "stdout",
     "output_type": "stream",
     "text": [
      "\n",
      "      Source |       SS           df       MS      Number of obs   =     2,312\n",
      "-------------+----------------------------------   F(1, 2310)      =     12.38\n",
      "       Model |  5.13292684         1  5.13292684   Prob > F        =    0.0004\n",
      "    Residual |  957.748994     2,310  .414609954   R-squared       =    0.0053\n",
      "-------------+----------------------------------   Adj R-squared   =    0.0049\n",
      "       Total |   962.88192     2,311  .416651632   Root MSE        =     .6439\n",
      "\n",
      "------------------------------------------------------------------------------\n",
      "     coneduc | Coefficient  Std. err.      t    P>|t|     [95% conf. interval]\n",
      "-------------+----------------------------------------------------------------\n",
      "        race |  -.0680786   .0193485    -3.52   0.000    -.1060209   -.0301363\n",
      "       _cons |   2.154366   .0301663    71.42   0.000      2.09521    2.213522\n",
      "------------------------------------------------------------------------------\n"
     ]
    }
   ],
   "source": [
    "reg coneduc race"
   ]
  },
  {
   "cell_type": "code",
   "execution_count": null,
   "id": "6885fb94-beab-4615-a8e0-77cffbd2f8b1",
   "metadata": {},
   "outputs": [],
   "source": [
    "* significant p value - race is signficant in causing confidence in education to change "
   ]
  },
  {
   "cell_type": "code",
   "execution_count": 11,
   "id": "5580a5aa-2e1f-48e9-839a-38584ca0e0c3",
   "metadata": {
    "tags": []
   },
   "outputs": [
    {
     "name": "stdout",
     "output_type": "stream",
     "text": [
      "\n",
      "      Source |       SS           df       MS      Number of obs   =     2,170\n",
      "-------------+----------------------------------   F(4, 2165)      =      4.41\n",
      "       Model |  7.24018908         4  1.81004727   Prob > F        =    0.0015\n",
      "    Residual |  888.091147     2,165  .410203763   R-squared       =    0.0081\n",
      "-------------+----------------------------------   Adj R-squared   =    0.0063\n",
      "       Total |  895.331336     2,169   .41278531   Root MSE        =    .64047\n",
      "\n",
      "------------------------------------------------------------------------------\n",
      "     coneduc | Coefficient  Std. err.      t    P>|t|     [95% conf. interval]\n",
      "-------------+----------------------------------------------------------------\n",
      "        race |  -.0673381   .0204216    -3.30   0.001     -.107386   -.0272901\n",
      "         age |  -.0010946   .0007746    -1.41   0.158    -.0026136    .0004243\n",
      "         sex |   -.059563   .0276479    -2.15   0.031    -.1137822   -.0053437\n",
      "        educ |   .0029312   .0047488     0.62   0.537    -.0063815     .012244\n",
      "       _cons |   2.258351   .0954704    23.65   0.000     2.071127    2.445574\n",
      "------------------------------------------------------------------------------\n"
     ]
    }
   ],
   "source": [
    "reg coneduc race age sex educ"
   ]
  },
  {
   "cell_type": "code",
   "execution_count": 13,
   "id": "d6918c1d-adb7-495a-9afe-940e022a7220",
   "metadata": {
    "tags": []
   },
   "outputs": [
    {
     "name": "stdout",
     "output_type": "stream",
     "text": [
      "\n",
      "      Source |       SS           df       MS      Number of obs   =     1,060\n",
      "-------------+----------------------------------   F(4, 1055)      =      7.85\n",
      "       Model |  7.60984833         4  1.90246208   Prob > F        =    0.0000\n",
      "    Residual |  255.726001     1,055  .242394313   R-squared       =    0.0289\n",
      "-------------+----------------------------------   Adj R-squared   =    0.0252\n",
      "       Total |  263.335849     1,059  .248664636   Root MSE        =    .49234\n",
      "\n",
      "------------------------------------------------------------------------------\n",
      "     racdif3 | Coefficient  Std. err.      t    P>|t|     [95% conf. interval]\n",
      "-------------+----------------------------------------------------------------\n",
      "        race |  -.0322641   .0230215    -1.40   0.161    -.0774374    .0129091\n",
      "        educ |  -.0244801   .0053229    -4.60   0.000    -.0349247   -.0140355\n",
      "         age |   .0010422   .0008657     1.20   0.229    -.0006564    .0027408\n",
      "         sex |  -.0804224   .0302865    -2.66   0.008    -.1398511   -.0209938\n",
      "       _cons |   1.921509    .106485    18.04   0.000     1.712562    2.130456\n",
      "------------------------------------------------------------------------------\n"
     ]
    }
   ],
   "source": [
    "reg racdif3 race educ age sex "
   ]
  },
  {
   "cell_type": "code",
   "execution_count": 13,
   "id": "6ce0d09b-99aa-4dd0-ae1f-31706242453e",
   "metadata": {
    "tags": []
   },
   "outputs": [
    {
     "name": "stdout",
     "output_type": "stream",
     "text": [
      "\u001b[31mdepvar may not be a factor variable\n",
      "r(198);\u001b[0m\n"
     ]
    }
   ],
   "source": []
  },
  {
   "cell_type": "code",
   "execution_count": null,
   "id": "b63682ae-10ae-487e-a2a9-ee2f7056065b",
   "metadata": {},
   "outputs": [],
   "source": []
  }
 ],
 "metadata": {
  "kernelspec": {
   "display_name": "Stata (nbstata)",
   "language": "stata",
   "name": "nbstata"
  },
  "language_info": {
   "file_extension": ".do",
   "mimetype": "text/x-stata",
   "name": "stata",
   "version": "17"
  }
 },
 "nbformat": 4,
 "nbformat_minor": 5
}
