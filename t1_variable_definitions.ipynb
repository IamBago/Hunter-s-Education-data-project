{
 "cells": [
  {
   "cell_type": "code",
   "execution_count": 44,
   "id": "e29e6867-abf0-42bd-b0ab-403a570da957",
   "metadata": {
    "tags": []
   },
   "outputs": [],
   "source": [
    "use race educ coneduc age sex racdif3 using data/2022/GSS2022, clear"
   ]
  },
  {
   "cell_type": "code",
   "execution_count": 46,
   "id": "9cfe551b-efd6-4862-a052-b95bb32d1c66",
   "metadata": {
    "tags": []
   },
   "outputs": [
    {
     "name": "stdout",
     "output_type": "stream",
     "text": [
      "\n",
      "Contains data from data/2022/GSS2022.dta\n",
      " Observations:         4,149                  \n",
      "    Variables:             6                  18 Apr 2024 18:32\n",
      "-------------------------------------------------------------------------------\n",
      "Variable      Storage   Display    Value\n",
      "    name         type    format    label      Variable label\n",
      "-------------------------------------------------------------------------------\n",
      "age             byte    %29.0g     AGE        age of respondent\n",
      "educ            byte    %29.0g     EDUC       highest year of school completed\n",
      "sex             byte    %29.0g     GENDER     respondents sex\n",
      "race            byte    %29.0g     RACE       race of respondent\n",
      "coneduc         byte    %29.0g     INSTCONF   confidence in education\n",
      "racdif3         byte    %29.0g     YESNO      differences due to lack of\n",
      "                                                education\n",
      "-------------------------------------------------------------------------------\n",
      "Sorted by: \n"
     ]
    }
   ],
   "source": [
    "des"
   ]
  },
  {
   "cell_type": "code",
   "execution_count": 48,
   "id": "a93ca915-b05a-4924-83ec-6844af744b34",
   "metadata": {
    "tags": []
   },
   "outputs": [
    {
     "name": "stdout",
     "output_type": "stream",
     "text": [
      "\n",
      "Table 2: Descriptive Statistics\n",
      "-----------------------------------------\n",
      "                                         \n",
      "                                  mean/sd\n",
      "-----------------------------------------\n",
      "race of respondent                   1.51\n",
      "                                     0.76\n",
      "highest year of school completed                14.15\n",
      "                                     2.91\n",
      "confidence in education                 2.04\n",
      "                                     0.64\n",
      "age of respondent                   48.24\n",
      "                                    17.75\n",
      "respondents sex                      1.54\n",
      "                                     0.50\n",
      "differences due to lack of education                 1.45\n",
      "                                     0.50\n",
      "-----------------------------------------\n"
     ]
    }
   ],
   "source": [
    "eststo contractterm: quietly estpost ///\n",
    "    summarize race educ coneduc age sex racdif3\n",
    "\n",
    "esttab, cells(\"mean(fmt(2))\" \"sd(fmt(2))\") label nodepvar nonumbers ///\n",
    "    mtitle(\" \") ///\n",
    "    title(\"Table 2: Descriptive Statistics\") noobs noabbrev modelwidth(20)"
   ]
  },
  {
   "cell_type": "code",
   "execution_count": null,
   "id": "de70429e-3389-4353-ade2-3f0c7fdd1e0b",
   "metadata": {},
   "outputs": [],
   "source": []
  },
  {
   "cell_type": "code",
   "execution_count": 53,
   "id": "82149b40-3ce1-4da0-8cc9-0185772b7515",
   "metadata": {},
   "outputs": [
    {
     "name": "stdout",
     "output_type": "stream",
     "text": [
      "(output written to tables/t2_descriptives.rtf)\n"
     ]
    }
   ],
   "source": [
    "esttab using tables/t2_descriptives.rtf, ///\n",
    "    cells(\"mean(fmt(2))\" \"sd(fmt(2))\") label nodepvar ///\n",
    "    nonumbers mtitle(\" \") ///\n",
    "    title(\"Table 2: Descriptive Statistics\") ///\n",
    "     noabbrev modelwidth(20) replace"
   ]
  },
  {
   "cell_type": "code",
   "execution_count": null,
   "id": "7da572e3-a1fc-4f7f-96be-c83cb0f56f0a",
   "metadata": {},
   "outputs": [],
   "source": [
    "* I know that the assignment says to do this on the t2 notebook, but Dr. Eaton reccomended that I move my exported esttab to t1. "
   ]
  }
 ],
 "metadata": {
  "kernelspec": {
   "display_name": "Stata (nbstata)",
   "language": "stata",
   "name": "nbstata"
  },
  "language_info": {
   "file_extension": ".do",
   "mimetype": "text/x-stata",
   "name": "stata",
   "version": "17"
  }
 },
 "nbformat": 4,
 "nbformat_minor": 5
}
