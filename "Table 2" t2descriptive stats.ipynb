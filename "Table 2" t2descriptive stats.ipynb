{
 "cells": [
  {
   "cell_type": "code",
   "execution_count": 1,
   "id": "dd90392f-ff09-4f97-83a2-ff4c35951747",
   "metadata": {
    "tags": []
   },
   "outputs": [
    {
     "data": {
      "text/html": [
       "<style>div.jp-Notebook .datagrid-container {min-height: 448px; }</style>"
      ],
      "text/plain": [
       "<IPython.core.display.HTML object>"
      ]
     },
     "metadata": {},
     "output_type": "display_data"
    }
   ],
   "source": [
    "use race educ coneduc age sex racdif3 using GSS2022-Copy1.dta, clear"
   ]
  },
  {
   "cell_type": "code",
   "execution_count": 3,
   "id": "4795e064-c262-4082-8688-26f48a2c26b1",
   "metadata": {
    "tags": []
   },
   "outputs": [
    {
     "name": "stdout",
     "output_type": "stream",
     "text": [
      "\n",
      "Contains data from GSS2022-Copy1.dta\n",
      " Observations:         3,544                  \n",
      "    Variables:             6                  22 Jan 2024 18:45\n",
      "-------------------------------------------------------------------------------\n",
      "Variable      Storage   Display    Value\n",
      "    name         type    format    label      Variable label\n",
      "-------------------------------------------------------------------------------\n",
      "age             byte    %29.0g     AGE        age of respondent\n",
      "educ            byte    %29.0g     EDUC       highest year of school completed\n",
      "sex             byte    %29.0g     GENDER     respondents sex\n",
      "race            byte    %29.0g     RACE       race of respondent\n",
      "coneduc         byte    %29.0g     INSTCONF   confidence in education\n",
      "racdif3         byte    %29.0g     YESNO      differences due to lack of\n",
      "                                                education\n",
      "-------------------------------------------------------------------------------\n",
      "Sorted by: \n"
     ]
    }
   ],
   "source": [
    "des"
   ]
  },
  {
   "cell_type": "code",
   "execution_count": null,
   "id": "8d78ac37-6501-4c9d-812f-8e32d8d90452",
   "metadata": {
    "tags": []
   },
   "outputs": [],
   "source": []
  },
  {
   "cell_type": "code",
   "execution_count": null,
   "id": "bc901765-cf2b-41d1-a800-6ad75d7c744e",
   "metadata": {
    "tags": []
   },
   "outputs": [],
   "source": []
  },
  {
   "cell_type": "code",
   "execution_count": 7,
   "id": "962bde3b-a3b3-471e-8b20-4170514a21f7",
   "metadata": {
    "tags": []
   },
   "outputs": [
    {
     "name": "stdout",
     "output_type": "stream",
     "text": [
      "\n",
      "-------------------------------------------------------------------------------\n",
      "race                                                         race of respondent\n",
      "-------------------------------------------------------------------------------\n",
      "\n",
      "                  Type: Numeric (byte)\n",
      "                 Label: RACE\n",
      "\n",
      "                 Range: [1,3]                         Units: 1\n",
      "         Unique values: 3                         Missing .: 0/3,544\n",
      "       Unique mv codes: 1                        Missing .*: 53/3,544\n",
      "\n",
      "            Tabulation: Freq.   Numeric  Label\n",
      "                        2,514         1  white\n",
      "                          565         2  black\n",
      "                          412         3  other\n",
      "                           53        .i  iap\n",
      "\n",
      "-------------------------------------------------------------------------------\n",
      "educ                                           highest year of school completed\n",
      "-------------------------------------------------------------------------------\n",
      "\n",
      "                  Type: Numeric (byte)\n",
      "                 Label: EDUC, but 20 nonmissing values are not labeled\n",
      "\n",
      "                 Range: [0,20]                        Units: 1\n",
      "         Unique values: 21                        Missing .: 0/3,544\n",
      "       Unique mv codes: 1                        Missing .*: 20/3,544\n",
      "\n",
      "              Examples: 12    \n",
      "                        13    \n",
      "                        15    \n",
      "                        16    \n",
      "\n",
      "-------------------------------------------------------------------------------\n",
      "coneduc                                                 confidence in education\n",
      "-------------------------------------------------------------------------------\n",
      "\n",
      "                  Type: Numeric (byte)\n",
      "                 Label: INSTCONF\n",
      "\n",
      "                 Range: [1,3]                         Units: 1\n",
      "         Unique values: 3                         Missing .: 0/3,544\n",
      "       Unique mv codes: 4                        Missing .*: 1,194/3,544\n",
      "\n",
      "            Tabulation: Freq.   Numeric  Label\n",
      "                          428         1  a great deal\n",
      "                        1,355         2  only some\n",
      "                          567         3  hardly any\n",
      "                           12        .d  don't know\n",
      "                        1,173        .i  iap\n",
      "                            1        .n  no answer\n",
      "                            8        .s  skipped on web\n",
      "\n",
      "-------------------------------------------------------------------------------\n",
      "age                                                           age of respondent\n",
      "-------------------------------------------------------------------------------\n",
      "\n",
      "                  Type: Numeric (byte)\n",
      "                 Label: AGE, but 71 nonmissing values are not labeled\n",
      "\n",
      "                 Range: [18,89]                       Units: 1\n",
      "         Unique values: 72                        Missing .: 0/3,544\n",
      "       Unique mv codes: 1                        Missing .*: 208/3,544\n",
      "\n",
      "              Examples: 32    \n",
      "                        44    \n",
      "                        57    \n",
      "                        70    \n",
      "\n",
      "-------------------------------------------------------------------------------\n",
      "sex                                                             respondents sex\n",
      "-------------------------------------------------------------------------------\n",
      "\n",
      "                  Type: Numeric (byte)\n",
      "                 Label: GENDER\n",
      "\n",
      "                 Range: [1,2]                         Units: 1\n",
      "         Unique values: 2                         Missing .: 0/3,544\n",
      "       Unique mv codes: 3                        Missing .*: 20/3,544\n",
      "\n",
      "            Tabulation: Freq.   Numeric  Label\n",
      "                        1,627         1  male\n",
      "                        1,897         2  female\n",
      "                            8        .d  don't know\n",
      "                            9        .n  no answer\n",
      "                            3        .s  skipped on web\n",
      "\n",
      "-------------------------------------------------------------------------------\n",
      "racdif3                                    differences due to lack of education\n",
      "-------------------------------------------------------------------------------\n",
      "\n",
      "                  Type: Numeric (byte)\n",
      "                 Label: YESNO\n",
      "\n",
      "                 Range: [1,2]                         Units: 1\n",
      "         Unique values: 2                         Missing .: 0/3,544\n",
      "       Unique mv codes: 4                        Missing .*: 2,410/3,544\n",
      "\n",
      "            Tabulation: Freq.   Numeric  Label\n",
      "                          608         1  yes\n",
      "                          526         2  no\n",
      "                           30        .d  don't know\n",
      "                        2,373        .i  iap\n",
      "                            3        .n  no answer\n",
      "                            4        .s  skipped on web\n"
     ]
    }
   ],
   "source": [
    "codebook race educ coneduc age sex racdif3"
   ]
  },
  {
   "cell_type": "code",
   "execution_count": 9,
   "id": "6f2ba6db-3f84-4327-beae-b64db249a7a9",
   "metadata": {
    "tags": []
   },
   "outputs": [
    {
     "name": "stdout",
     "output_type": "stream",
     "text": [
      "\n",
      "Mean estimation                            Number of obs = 523\n",
      "\n",
      "--------------------------------------------------------------\n",
      "             |       Mean   Std. err.     [95% conf. interval]\n",
      "-------------+------------------------------------------------\n",
      "        race |    1.42065    .030709      1.360322    1.480979\n",
      "        educ |   13.88719   .1316595      13.62854    14.14584\n",
      "     coneduc |    2.06501   .0282444      2.009523    2.120496\n",
      "         age |   49.05927   .7680183      47.55049    50.56806\n",
      "         sex |   1.529637   .0218459       1.48672    1.572553\n",
      "     racdif3 |   1.460803   .0218171      1.417943    1.503663\n",
      "--------------------------------------------------------------\n"
     ]
    }
   ],
   "source": [
    "mean race educ coneduc age sex racdif3"
   ]
  },
  {
   "cell_type": "code",
   "execution_count": 10,
   "id": "a3f540f5-8ae6-4ac2-8262-5da68f1335bb",
   "metadata": {
    "tags": []
   },
   "outputs": [
    {
     "name": "stdout",
     "output_type": "stream",
     "text": [
      "\n",
      "    Variable |        Obs        Mean    Std. dev.       Min        Max\n",
      "-------------+---------------------------------------------------------\n",
      "        race |      3,491     1.39788    .6897415          1          3\n",
      "        educ |      3,524    14.10812    2.893797          0         20\n",
      "     coneduc |      2,350    2.059149    .6481392          1          3\n",
      "         age |      3,336    49.17746    17.97359         18         89\n",
      "         sex |      3,524    1.538309     .498601          1          2\n",
      "-------------+---------------------------------------------------------\n",
      "     racdif3 |      1,134    1.463845    .4989111          1          2\n"
     ]
    }
   ],
   "source": [
    "sum race educ coneduc age sex racdif3 "
   ]
  },
  {
   "cell_type": "raw",
   "id": "73c49167-4d2f-44e3-897b-4c07624909e2",
   "metadata": {
    "tags": []
   },
   "source": [
    "sum"
   ]
  },
  {
   "cell_type": "code",
   "execution_count": 13,
   "id": "ab2eafb1-ebf0-4ac2-840b-c5473343cfbb",
   "metadata": {
    "tags": []
   },
   "outputs": [
    {
     "name": "stdout",
     "output_type": "stream",
     "text": [
      "\n",
      "                     race of respondent\n",
      "-------------------------------------------------------------\n",
      "      Percentiles      Smallest\n",
      " 1%            1              1\n",
      " 5%            1              1\n",
      "10%            1              1       Obs               3,491\n",
      "25%            1              1       Sum of wgt.       3,491\n",
      "\n",
      "50%            1                      Mean            1.39788\n",
      "                        Largest       Std. dev.      .6897415\n",
      "75%            2              3\n",
      "90%            3              3       Variance       .4757434\n",
      "95%            3              3       Skewness       1.449074\n",
      "99%            3              3       Kurtosis       3.611235\n",
      "\n",
      "              highest year of school completed\n",
      "-------------------------------------------------------------\n",
      "      Percentiles      Smallest\n",
      " 1%            6              0\n",
      " 5%           10              0\n",
      "10%           12              0       Obs               3,524\n",
      "25%           12              1       Sum of wgt.       3,524\n",
      "\n",
      "50%           14                      Mean           14.10812\n",
      "                        Largest       Std. dev.      2.893797\n",
      "75%           16             20\n",
      "90%           18             20       Variance       8.374058\n",
      "95%           19             20       Skewness      -.3403497\n",
      "99%           20             20       Kurtosis       4.147407\n",
      "\n",
      "                   confidence in education\n",
      "-------------------------------------------------------------\n",
      "      Percentiles      Smallest\n",
      " 1%            1              1\n",
      " 5%            1              1\n",
      "10%            1              1       Obs               2,350\n",
      "25%            2              1       Sum of wgt.       2,350\n",
      "\n",
      "50%            2                      Mean           2.059149\n",
      "                        Largest       Std. dev.      .6481392\n",
      "75%            2              3\n",
      "90%            3              3       Variance       .4200844\n",
      "95%            3              3       Skewness      -.0572178\n",
      "99%            3              3       Kurtosis        2.37216\n",
      "\n",
      "                      age of respondent\n",
      "-------------------------------------------------------------\n",
      "      Percentiles      Smallest\n",
      " 1%           19             18\n",
      " 5%           22             18\n",
      "10%           25             18       Obs               3,336\n",
      "25%           34             18       Sum of wgt.       3,336\n",
      "\n",
      "50%           48                      Mean           49.17746\n",
      "                        Largest       Std. dev.      17.97359\n",
      "75%           64             89\n",
      "90%           73             89       Variance       323.0498\n",
      "95%           78             89       Skewness       .1350248\n",
      "99%           86             89       Kurtosis       1.944325\n",
      "\n",
      "                       respondents sex\n",
      "-------------------------------------------------------------\n",
      "      Percentiles      Smallest\n",
      " 1%            1              1\n",
      " 5%            1              1\n",
      "10%            1              1       Obs               3,524\n",
      "25%            1              1       Sum of wgt.       3,524\n",
      "\n",
      "50%            2                      Mean           1.538309\n",
      "                        Largest       Std. dev.       .498601\n",
      "75%            2              2\n",
      "90%            2              2       Variance        .248603\n",
      "95%            2              2       Skewness      -.1536867\n",
      "99%            2              2       Kurtosis        1.02362\n",
      "\n",
      "            differences due to lack of education\n",
      "-------------------------------------------------------------\n",
      "      Percentiles      Smallest\n",
      " 1%            1              1\n",
      " 5%            1              1\n",
      "10%            1              1       Obs               1,134\n",
      "25%            1              1       Sum of wgt.       1,134\n",
      "\n",
      "50%            1                      Mean           1.463845\n",
      "                        Largest       Std. dev.      .4989111\n",
      "75%            2              2\n",
      "90%            2              2       Variance       .2489123\n",
      "95%            2              2       Skewness       .1450004\n",
      "99%            2              2       Kurtosis       1.021025\n"
     ]
    }
   ],
   "source": [
    "sum race educ coneduc age sex racdif3, d"
   ]
  },
  {
   "cell_type": "code",
   "execution_count": null,
   "id": "a8ac02a6-2ab3-40b0-9d5b-94e645f82ac2",
   "metadata": {},
   "outputs": [],
   "source": []
  }
 ],
 "metadata": {
  "kernelspec": {
   "display_name": "Stata (nbstata)",
   "language": "stata",
   "name": "nbstata"
  },
  "language_info": {
   "file_extension": ".do",
   "mimetype": "text/x-stata",
   "name": "stata",
   "version": "17"
  }
 },
 "nbformat": 4,
 "nbformat_minor": 5
}
