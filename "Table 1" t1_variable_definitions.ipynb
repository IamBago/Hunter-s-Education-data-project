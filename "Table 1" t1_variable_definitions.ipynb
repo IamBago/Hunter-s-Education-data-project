{
 "cells": [
  {
   "cell_type": "code",
   "execution_count": 15,
   "id": "e29e6867-abf0-42bd-b0ab-403a570da957",
   "metadata": {
    "tags": []
   },
   "outputs": [],
   "source": [
    "use race educ coneduc age sex racdif3 using GSS2022-Copy1.dta, clear"
   ]
  },
  {
   "cell_type": "code",
   "execution_count": 17,
   "id": "9cfe551b-efd6-4862-a052-b95bb32d1c66",
   "metadata": {
    "tags": []
   },
   "outputs": [
    {
     "name": "stdout",
     "output_type": "stream",
     "text": [
      "\n",
      "Contains data from GSS2022-Copy1.dta\n",
      " Observations:         3,544                  \n",
      "    Variables:             6                  22 Jan 2024 18:45\n",
      "-------------------------------------------------------------------------------\n",
      "Variable      Storage   Display    Value\n",
      "    name         type    format    label      Variable label\n",
      "-------------------------------------------------------------------------------\n",
      "age             byte    %29.0g     AGE        age of respondent\n",
      "educ            byte    %29.0g     EDUC       highest year of school completed\n",
      "sex             byte    %29.0g     GENDER     respondents sex\n",
      "race            byte    %29.0g     RACE       race of respondent\n",
      "coneduc         byte    %29.0g     INSTCONF   confidence in education\n",
      "racdif3         byte    %29.0g     YESNO      differences due to lack of\n",
      "                                                education\n",
      "-------------------------------------------------------------------------------\n",
      "Sorted by: \n"
     ]
    }
   ],
   "source": [
    "des"
   ]
  },
  {
   "cell_type": "code",
   "execution_count": 23,
   "id": "a93ca915-b05a-4924-83ec-6844af744b34",
   "metadata": {
    "tags": []
   },
   "outputs": [
    {
     "name": "stdout",
     "output_type": "stream",
     "text": [
      "\n",
      "Variable name\n",
      "-----------------------------------------\n",
      "                                     Mean\n",
      "                                         \n",
      "                                     mean\n",
      "-----------------------------------------\n",
      "race of respondent                   1.40\n",
      "highest year of school completed                14.11\n",
      "confidence in education                 2.06\n",
      "age of respondent                   49.18\n",
      "respondents sex                      1.54\n",
      "differences due to lack of education                 1.46\n",
      "-----------------------------------------\n"
     ]
    }
   ],
   "source": [
    "eststo contractterm: quietly estpost summarize race educ coneduc age sex racdif3\n",
    "\n",
    "esttab, cells(\"mean(fmt(2))\") label nodepvar nonumbers  mgroups(\"Mean\") mtitle(\" \") ///\n",
    "title(\"Variable name\") noobs noabbrev modelwidth(20)"
   ]
  },
  {
   "cell_type": "code",
   "execution_count": null,
   "id": "82149b40-3ce1-4da0-8cc9-0185772b7515",
   "metadata": {},
   "outputs": [],
   "source": []
  }
 ],
 "metadata": {
  "kernelspec": {
   "display_name": "Stata (nbstata)",
   "language": "stata",
   "name": "nbstata"
  },
  "language_info": {
   "file_extension": ".do",
   "mimetype": "text/x-stata",
   "name": "stata",
   "version": "17"
  }
 },
 "nbformat": 4,
 "nbformat_minor": 5
}
