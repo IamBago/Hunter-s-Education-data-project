{
 "cells": [
  {
   "cell_type": "code",
   "execution_count": 12,
   "id": "dd90392f-ff09-4f97-83a2-ff4c35951747",
   "metadata": {
    "tags": []
   },
   "outputs": [],
   "source": [
    "use race educ coneduc age sex racdif3 using GSS2022-Copy1.dta, clear"
   ]
  },
  {
   "cell_type": "code",
   "execution_count": 35,
   "id": "e52240a7-9994-4d51-82d1-ec15686e3c08",
   "metadata": {
    "tags": []
   },
   "outputs": [
    {
     "name": "stdout",
     "output_type": "stream",
     "text": [
      "age      educ     sex      race     coneduc  racdif3\n"
     ]
    }
   ],
   "source": [
    "ds"
   ]
  },
  {
   "cell_type": "code",
   "execution_count": 25,
   "id": "4795e064-c262-4082-8688-26f48a2c26b1",
   "metadata": {
    "tags": []
   },
   "outputs": [
    {
     "name": "stdout",
     "output_type": "stream",
     "text": [
      "\n",
      "Contains data from GSS2022-Copy1.dta\n",
      " Observations:         3,544                  \n",
      "    Variables:             6                  22 Jan 2024 18:45\n",
      "-------------------------------------------------------------------------------\n",
      "Variable      Storage   Display    Value\n",
      "    name         type    format    label      Variable label\n",
      "-------------------------------------------------------------------------------\n",
      "age             byte    %29.0g     AGE        age of respondent\n",
      "educ            byte    %29.0g     EDUC       highest year of school completed\n",
      "sex             byte    %29.0g     GENDER     respondents sex\n",
      "race            byte    %29.0g     RACE       race of respondent\n",
      "coneduc         byte    %29.0g     INSTCONF   confidence in education\n",
      "racdif3         byte    %29.0g     YESNO      differences due to lack of\n",
      "                                                education\n",
      "-------------------------------------------------------------------------------\n",
      "Sorted by: \n"
     ]
    }
   ],
   "source": [
    "des"
   ]
  },
  {
   "cell_type": "code",
   "execution_count": 31,
   "id": "8d78ac37-6501-4c9d-812f-8e32d8d90452",
   "metadata": {
    "tags": []
   },
   "outputs": [
    {
     "name": "stdout",
     "output_type": "stream",
     "text": [
      "\u001b[31mfile tables/Table2-descriptive_statistics.rtf could not be opened\n",
      "r(603);\u001b[0m\n"
     ]
    }
   ],
   "source": []
  },
  {
   "cell_type": "code",
   "execution_count": null,
   "id": "bc901765-cf2b-41d1-a800-6ad75d7c744e",
   "metadata": {
    "tags": []
   },
   "outputs": [],
   "source": []
  },
  {
   "cell_type": "code",
   "execution_count": 7,
   "id": "962bde3b-a3b3-471e-8b20-4170514a21f7",
   "metadata": {
    "collapsed": true,
    "jupyter": {
     "outputs_hidden": true
    },
    "tags": []
   },
   "outputs": [
    {
     "name": "stdout",
     "output_type": "stream",
     "text": [
      "\n",
      "-------------------------------------------------------------------------------\n",
      "race                                                         race of respondent\n",
      "-------------------------------------------------------------------------------\n",
      "\n",
      "                  Type: Numeric (byte)\n",
      "                 Label: RACE\n",
      "\n",
      "                 Range: [1,3]                         Units: 1\n",
      "         Unique values: 3                         Missing .: 0/3,544\n",
      "       Unique mv codes: 1                        Missing .*: 53/3,544\n",
      "\n",
      "            Tabulation: Freq.   Numeric  Label\n",
      "                        2,514         1  white\n",
      "                          565         2  black\n",
      "                          412         3  other\n",
      "                           53        .i  iap\n",
      "\n",
      "-------------------------------------------------------------------------------\n",
      "educ                                           highest year of school completed\n",
      "-------------------------------------------------------------------------------\n",
      "\n",
      "                  Type: Numeric (byte)\n",
      "                 Label: EDUC, but 20 nonmissing values are not labeled\n",
      "\n",
      "                 Range: [0,20]                        Units: 1\n",
      "         Unique values: 21                        Missing .: 0/3,544\n",
      "       Unique mv codes: 1                        Missing .*: 20/3,544\n",
      "\n",
      "              Examples: 12    \n",
      "                        13    \n",
      "                        15    \n",
      "                        16    \n",
      "\n",
      "-------------------------------------------------------------------------------\n",
      "coneduc                                                 confidence in education\n",
      "-------------------------------------------------------------------------------\n",
      "\n",
      "                  Type: Numeric (byte)\n",
      "                 Label: INSTCONF\n",
      "\n",
      "                 Range: [1,3]                         Units: 1\n",
      "         Unique values: 3                         Missing .: 0/3,544\n",
      "       Unique mv codes: 4                        Missing .*: 1,194/3,544\n",
      "\n",
      "            Tabulation: Freq.   Numeric  Label\n",
      "                          428         1  a great deal\n",
      "                        1,355         2  only some\n",
      "                          567         3  hardly any\n",
      "                           12        .d  don't know\n",
      "                        1,173        .i  iap\n",
      "                            1        .n  no answer\n",
      "                            8        .s  skipped on web\n",
      "\n",
      "-------------------------------------------------------------------------------\n",
      "age                                                           age of respondent\n",
      "-------------------------------------------------------------------------------\n",
      "\n",
      "                  Type: Numeric (byte)\n",
      "                 Label: AGE, but 71 nonmissing values are not labeled\n",
      "\n",
      "                 Range: [18,89]                       Units: 1\n",
      "         Unique values: 72                        Missing .: 0/3,544\n",
      "       Unique mv codes: 1                        Missing .*: 208/3,544\n",
      "\n",
      "              Examples: 32    \n",
      "                        44    \n",
      "                        57    \n",
      "                        70    \n",
      "\n",
      "-------------------------------------------------------------------------------\n",
      "sex                                                             respondents sex\n",
      "-------------------------------------------------------------------------------\n",
      "\n",
      "                  Type: Numeric (byte)\n",
      "                 Label: GENDER\n",
      "\n",
      "                 Range: [1,2]                         Units: 1\n",
      "         Unique values: 2                         Missing .: 0/3,544\n",
      "       Unique mv codes: 3                        Missing .*: 20/3,544\n",
      "\n",
      "            Tabulation: Freq.   Numeric  Label\n",
      "                        1,627         1  male\n",
      "                        1,897         2  female\n",
      "                            8        .d  don't know\n",
      "                            9        .n  no answer\n",
      "                            3        .s  skipped on web\n",
      "\n",
      "-------------------------------------------------------------------------------\n",
      "racdif3                                    differences due to lack of education\n",
      "-------------------------------------------------------------------------------\n",
      "\n",
      "                  Type: Numeric (byte)\n",
      "                 Label: YESNO\n",
      "\n",
      "                 Range: [1,2]                         Units: 1\n",
      "         Unique values: 2                         Missing .: 0/3,544\n",
      "       Unique mv codes: 4                        Missing .*: 2,410/3,544\n",
      "\n",
      "            Tabulation: Freq.   Numeric  Label\n",
      "                          608         1  yes\n",
      "                          526         2  no\n",
      "                           30        .d  don't know\n",
      "                        2,373        .i  iap\n",
      "                            3        .n  no answer\n",
      "                            4        .s  skipped on web\n"
     ]
    }
   ],
   "source": [
    "codebook race educ coneduc age sex racdif3"
   ]
  },
  {
   "cell_type": "code",
   "execution_count": 10,
   "id": "a3f540f5-8ae6-4ac2-8262-5da68f1335bb",
   "metadata": {
    "tags": []
   },
   "outputs": [
    {
     "name": "stdout",
     "output_type": "stream",
     "text": [
      "\n",
      "    Variable |        Obs        Mean    Std. dev.       Min        Max\n",
      "-------------+---------------------------------------------------------\n",
      "        race |      3,491     1.39788    .6897415          1          3\n",
      "        educ |      3,524    14.10812    2.893797          0         20\n",
      "     coneduc |      2,350    2.059149    .6481392          1          3\n",
      "         age |      3,336    49.17746    17.97359         18         89\n",
      "         sex |      3,524    1.538309     .498601          1          2\n",
      "-------------+---------------------------------------------------------\n",
      "     racdif3 |      1,134    1.463845    .4989111          1          2\n"
     ]
    }
   ],
   "source": [
    "sum race educ coneduc age sex racdif3 "
   ]
  },
  {
   "cell_type": "code",
   "execution_count": 3,
   "id": "4a4c1580-10b3-42cc-b828-8971592714d9",
   "metadata": {
    "tags": []
   },
   "outputs": [
    {
     "name": "stdout",
     "output_type": "stream",
     "text": [
      "\u001b[31mlast estimates (.) not found\n",
      "r(301);\u001b[0m\n"
     ]
    }
   ],
   "source": []
  },
  {
   "cell_type": "code",
   "execution_count": 13,
   "id": "ab2eafb1-ebf0-4ac2-840b-c5473343cfbb",
   "metadata": {
    "collapsed": true,
    "jupyter": {
     "outputs_hidden": true
    },
    "tags": []
   },
   "outputs": [
    {
     "name": "stdout",
     "output_type": "stream",
     "text": [
      "\n",
      "                     race of respondent\n",
      "-------------------------------------------------------------\n",
      "      Percentiles      Smallest\n",
      " 1%            1              1\n",
      " 5%            1              1\n",
      "10%            1              1       Obs               3,491\n",
      "25%            1              1       Sum of wgt.       3,491\n",
      "\n",
      "50%            1                      Mean            1.39788\n",
      "                        Largest       Std. dev.      .6897415\n",
      "75%            2              3\n",
      "90%            3              3       Variance       .4757434\n",
      "95%            3              3       Skewness       1.449074\n",
      "99%            3              3       Kurtosis       3.611235\n",
      "\n",
      "              highest year of school completed\n",
      "-------------------------------------------------------------\n",
      "      Percentiles      Smallest\n",
      " 1%            6              0\n",
      " 5%           10              0\n",
      "10%           12              0       Obs               3,524\n",
      "25%           12              1       Sum of wgt.       3,524\n",
      "\n",
      "50%           14                      Mean           14.10812\n",
      "                        Largest       Std. dev.      2.893797\n",
      "75%           16             20\n",
      "90%           18             20       Variance       8.374058\n",
      "95%           19             20       Skewness      -.3403497\n",
      "99%           20             20       Kurtosis       4.147407\n",
      "\n",
      "                   confidence in education\n",
      "-------------------------------------------------------------\n",
      "      Percentiles      Smallest\n",
      " 1%            1              1\n",
      " 5%            1              1\n",
      "10%            1              1       Obs               2,350\n",
      "25%            2              1       Sum of wgt.       2,350\n",
      "\n",
      "50%            2                      Mean           2.059149\n",
      "                        Largest       Std. dev.      .6481392\n",
      "75%            2              3\n",
      "90%            3              3       Variance       .4200844\n",
      "95%            3              3       Skewness      -.0572178\n",
      "99%            3              3       Kurtosis        2.37216\n",
      "\n",
      "                      age of respondent\n",
      "-------------------------------------------------------------\n",
      "      Percentiles      Smallest\n",
      " 1%           19             18\n",
      " 5%           22             18\n",
      "10%           25             18       Obs               3,336\n",
      "25%           34             18       Sum of wgt.       3,336\n",
      "\n",
      "50%           48                      Mean           49.17746\n",
      "                        Largest       Std. dev.      17.97359\n",
      "75%           64             89\n",
      "90%           73             89       Variance       323.0498\n",
      "95%           78             89       Skewness       .1350248\n",
      "99%           86             89       Kurtosis       1.944325\n",
      "\n",
      "                       respondents sex\n",
      "-------------------------------------------------------------\n",
      "      Percentiles      Smallest\n",
      " 1%            1              1\n",
      " 5%            1              1\n",
      "10%            1              1       Obs               3,524\n",
      "25%            1              1       Sum of wgt.       3,524\n",
      "\n",
      "50%            2                      Mean           1.538309\n",
      "                        Largest       Std. dev.       .498601\n",
      "75%            2              2\n",
      "90%            2              2       Variance        .248603\n",
      "95%            2              2       Skewness      -.1536867\n",
      "99%            2              2       Kurtosis        1.02362\n",
      "\n",
      "            differences due to lack of education\n",
      "-------------------------------------------------------------\n",
      "      Percentiles      Smallest\n",
      " 1%            1              1\n",
      " 5%            1              1\n",
      "10%            1              1       Obs               1,134\n",
      "25%            1              1       Sum of wgt.       1,134\n",
      "\n",
      "50%            1                      Mean           1.463845\n",
      "                        Largest       Std. dev.      .4989111\n",
      "75%            2              2\n",
      "90%            2              2       Variance       .2489123\n",
      "95%            2              2       Skewness       .1450004\n",
      "99%            2              2       Kurtosis       1.021025\n"
     ]
    }
   ],
   "source": [
    "sum race educ coneduc age sex racdif3, d"
   ]
  },
  {
   "cell_type": "code",
   "execution_count": 14,
   "id": "a8ac02a6-2ab3-40b0-9d5b-94e645f82ac2",
   "metadata": {},
   "outputs": [
    {
     "name": "stdout",
     "output_type": "stream",
     "text": [
      "\n",
      "Table 2: Descriptive Statistics\n",
      "-----------------------------------------\n",
      "                                         \n",
      "                                  mean/sd\n",
      "-----------------------------------------\n",
      "race of respondent                   1.40\n",
      "                                     0.69\n",
      "highest year of school completed                14.11\n",
      "                                     2.89\n",
      "confidence in education                 2.06\n",
      "                                     0.65\n",
      "age of respondent                   49.18\n",
      "                                    17.97\n",
      "respondents sex                      1.54\n",
      "                                     0.50\n",
      "-----------------------------------------\n"
     ]
    }
   ],
   "source": [
    "eststo contractterm: quietly estpost ///\n",
    "    summarize race educ coneduc age sex, d\n",
    "\n",
    "esttab, cells(\"mean(fmt(2))\" \"sd(fmt(2))\") label nodepvar nonumbers ///\n",
    "    mtitle(\" \") ///\n",
    "    title(\"Table 2: Descriptive Statistics\") noobs noabbrev modelwidth(20)"
   ]
  },
  {
   "cell_type": "code",
   "execution_count": 16,
   "id": "b44fbb84-1e44-4c05-a485-6b53d71bee06",
   "metadata": {
    "tags": []
   },
   "outputs": [
    {
     "name": "stdout",
     "output_type": "stream",
     "text": [
      "(output written to tables/t2_descriptives.rtf)\n"
     ]
    }
   ],
   "source": [
    "esttab using tables/t2_descriptives.rtf, ///\n",
    "    cells(\"mean(fmt(2))\" \"sd(fmt(2))\") label nodepvar ///\n",
    "    nonumbers mtitle(\" \") ///\n",
    "    title(\"Table 2: Descriptive Statistics\") ///\n",
    "     noabbrev modelwidth(20) replace"
   ]
  },
  {
   "cell_type": "code",
   "execution_count": null,
   "id": "2fb8562a-baa6-404f-84f2-da33266976f6",
   "metadata": {},
   "outputs": [],
   "source": []
  }
 ],
 "metadata": {
  "kernelspec": {
   "display_name": "Stata (nbstata)",
   "language": "stata",
   "name": "nbstata"
  },
  "language_info": {
   "file_extension": ".do",
   "mimetype": "text/x-stata",
   "name": "stata",
   "version": "17"
  }
 },
 "nbformat": 4,
 "nbformat_minor": 5
}
